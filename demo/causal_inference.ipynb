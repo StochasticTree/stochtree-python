{
 "cells": [
  {
   "cell_type": "markdown",
   "metadata": {},
   "source": [
    "# Causal Inference Demo Notebook"
   ]
  },
  {
   "cell_type": "markdown",
   "metadata": {},
   "source": [
    "Load necessary libraries"
   ]
  },
  {
   "cell_type": "code",
   "execution_count": null,
   "metadata": {},
   "outputs": [],
   "source": [
    "import numpy as np\n",
    "import pandas as pd\n",
    "import seaborn as sns\n",
    "import matplotlib.pyplot as plt\n",
    "from stochtree import BCFModel\n",
    "from sklearn.model_selection import train_test_split"
   ]
  },
  {
   "cell_type": "markdown",
   "metadata": {},
   "source": [
    "Generate sample data"
   ]
  },
  {
   "cell_type": "code",
   "execution_count": null,
   "metadata": {},
   "outputs": [],
   "source": [
    "# RNG\n",
    "random_seed = 101\n",
    "rng = np.random.default_rng(random_seed)\n",
    "\n",
    "# Generate covariates and basis\n",
    "n = 1000\n",
    "p_X = 5\n",
    "X = rng.uniform(0, 1, (n, p_X))\n",
    "pi_X = 0.25 + 0.5*X[:,0]\n",
    "Z = rng.binomial(1, pi_X, n).astype(float)\n",
    "\n",
    "# Define the outcome mean functions (prognostic and treatment effects)\n",
    "mu_X = pi_X*5\n",
    "# tau_X = np.sin(X[:,1]*2*np.pi)\n",
    "tau_X = X[:,1]*2\n",
    "\n",
    "# Generate outcome\n",
    "epsilon = rng.normal(0, 1, n)\n",
    "y = mu_X + tau_X*Z + epsilon"
   ]
  },
  {
   "cell_type": "markdown",
   "metadata": {},
   "source": [
    "Test-train split"
   ]
  },
  {
   "cell_type": "code",
   "execution_count": null,
   "metadata": {},
   "outputs": [],
   "source": [
    "sample_inds = np.arange(n)\n",
    "train_inds, test_inds = train_test_split(sample_inds, test_size=0.5)\n",
    "X_train = X[train_inds,:]\n",
    "X_test = X[test_inds,:]\n",
    "Z_train = Z[train_inds]\n",
    "Z_test = Z[test_inds]\n",
    "y_train = y[train_inds]\n",
    "y_test = y[test_inds]\n",
    "pi_train = pi_X[train_inds]\n",
    "pi_test = pi_X[test_inds]\n",
    "mu_train = mu_X[train_inds]\n",
    "mu_test = mu_X[test_inds]\n",
    "tau_train = tau_X[train_inds]\n",
    "tau_test = tau_X[test_inds]"
   ]
  },
  {
   "cell_type": "markdown",
   "metadata": {},
   "source": [
    "Run BCF"
   ]
  },
  {
   "cell_type": "code",
   "execution_count": null,
   "metadata": {},
   "outputs": [],
   "source": [
    "bcf_model = BCFModel()\n",
    "bcf_model.sample(X_train, Z_train, y_train, pi_train, X_test, Z_test, pi_test)"
   ]
  },
  {
   "cell_type": "markdown",
   "metadata": {},
   "source": [
    "Inspect the MCMC (BART) samples"
   ]
  },
  {
   "cell_type": "code",
   "execution_count": null,
   "metadata": {},
   "outputs": [],
   "source": [
    "forest_preds_y_mcmc = bcf_model.y_hat_test[:,bcf_model.num_gfr:]\n",
    "forest_pred_avg_mcmc = np.squeeze(forest_preds_y_mcmc).mean(axis = 1, keepdims = True)\n",
    "forest_pred_df_mcmc = pd.DataFrame(np.concatenate((np.expand_dims(y_test,1), forest_pred_avg_mcmc), axis = 1), columns=[\"True tau\", \"Average estimated tau\"])\n",
    "sns.scatterplot(data=forest_pred_df_mcmc, x=\"True tau\", y=\"Average estimated tau\")\n",
    "plt.axline((0, 0), slope=1, color=\"black\", linestyle=(0, (3,3)))\n",
    "plt.show()"
   ]
  },
  {
   "cell_type": "code",
   "execution_count": null,
   "metadata": {},
   "outputs": [],
   "source": [
    "forest_preds_tau_mcmc = bcf_model.tau_hat_test[:,bcf_model.num_gfr:]\n",
    "forest_pred_avg_mcmc = np.squeeze(forest_preds_tau_mcmc).mean(axis = 1, keepdims = True)\n",
    "forest_pred_df_mcmc = pd.DataFrame(np.concatenate((np.expand_dims(tau_test,1), forest_pred_avg_mcmc), axis = 1), columns=[\"True tau\", \"Average estimated tau\"])\n",
    "sns.scatterplot(data=forest_pred_df_mcmc, x=\"True tau\", y=\"Average estimated tau\")\n",
    "plt.axline((0, 0), slope=1, color=\"black\", linestyle=(0, (3,3)))\n",
    "plt.show()"
   ]
  },
  {
   "cell_type": "code",
   "execution_count": null,
   "metadata": {},
   "outputs": [],
   "source": [
    "sigma_df_mcmc = pd.DataFrame(np.concatenate((np.expand_dims(np.arange(bcf_model.num_samples - bcf_model.num_gfr),axis=1), np.expand_dims(bcf_model.global_var_samples[bcf_model.num_gfr:],axis=1)), axis = 1), columns=[\"Sample\", \"Sigma\"])\n",
    "sns.scatterplot(data=sigma_df_mcmc, x=\"Sample\", y=\"Sigma\")\n",
    "plt.show()"
   ]
  },
  {
   "cell_type": "code",
   "execution_count": null,
   "metadata": {},
   "outputs": [],
   "source": [
    "b_df_mcmc = pd.DataFrame(np.concatenate((np.expand_dims(np.arange(bcf_model.num_samples - bcf_model.num_gfr),axis=1), np.expand_dims(bcf_model.b0_samples[bcf_model.num_gfr:],axis=1), np.expand_dims(bcf_model.b1_samples[bcf_model.num_gfr:],axis=1)), axis = 1), columns=[\"Sample\", \"Beta_0\", \"Beta_1\"])\n",
    "sns.scatterplot(data=b_df_mcmc, x=\"Sample\", y=\"Beta_0\")\n",
    "sns.scatterplot(data=b_df_mcmc, x=\"Sample\", y=\"Beta_1\")\n",
    "plt.show()"
   ]
  }
 ],
 "metadata": {
  "kernelspec": {
   "display_name": "stochtree-dev",
   "language": "python",
   "name": "python3"
  },
  "language_info": {
   "codemirror_mode": {
    "name": "ipython",
    "version": 3
   },
   "file_extension": ".py",
   "mimetype": "text/x-python",
   "name": "python",
   "nbconvert_exporter": "python",
   "pygments_lexer": "ipython3",
   "version": "3.10.14"
  }
 },
 "nbformat": 4,
 "nbformat_minor": 2
}
