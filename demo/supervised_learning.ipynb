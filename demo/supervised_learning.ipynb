{
 "cells": [
  {
   "cell_type": "markdown",
   "metadata": {},
   "source": [
    "# Supervised Learning Demo Notebook"
   ]
  },
  {
   "cell_type": "markdown",
   "metadata": {},
   "source": [
    "Load necessary libraries"
   ]
  },
  {
   "cell_type": "code",
   "execution_count": null,
   "metadata": {},
   "outputs": [],
   "source": [
    "import numpy as np\n",
    "import pandas as pd\n",
    "import seaborn as sns\n",
    "import matplotlib.pyplot as plt\n",
    "from stochtree import Dataset, Residual, RNG, ForestSampler, ForestContainer, GlobalVarianceModel, LeafVarianceModel"
   ]
  },
  {
   "cell_type": "markdown",
   "metadata": {},
   "source": [
    "Generate sample data"
   ]
  },
  {
   "cell_type": "code",
   "execution_count": null,
   "metadata": {},
   "outputs": [],
   "source": [
    "# RNG\n",
    "random_seed = 1234\n",
    "rng = np.random.default_rng(random_seed)\n",
    "\n",
    "# Generate covariates and basis\n",
    "n = 1000\n",
    "p_X = 10\n",
    "p_W = 1\n",
    "X = rng.uniform(0, 1, (n, p_X))\n",
    "W = rng.uniform(0, 1, (n, p_W))\n",
    "\n",
    "# Define the outcome mean function\n",
    "def outcome_mean(X, W):\n",
    "    return np.where(\n",
    "        (X[:,0] >= 0.0) & (X[:,0] < 0.25), -7.5 * W[:,0], \n",
    "        np.where(\n",
    "            (X[:,0] >= 0.25) & (X[:,0] < 0.5), -2.5 * W[:,0], \n",
    "            np.where(\n",
    "                (X[:,0] >= 0.5) & (X[:,0] < 0.75), 2.5 * W[:,0], \n",
    "                7.5 * W[:,0]\n",
    "            )\n",
    "        )\n",
    "    )\n",
    "\n",
    "# Generate outcome\n",
    "epsilon = rng.normal(0, 1, n)\n",
    "y = outcome_mean(X, W) + epsilon\n",
    "\n",
    "# Standardize outcome\n",
    "y_bar = np.mean(y)\n",
    "y_std = np.std(y)\n",
    "resid = (y-y_bar)/y_std"
   ]
  },
  {
   "cell_type": "markdown",
   "metadata": {},
   "source": [
    "Set some sampling parameters"
   ]
  },
  {
   "cell_type": "code",
   "execution_count": null,
   "metadata": {},
   "outputs": [],
   "source": [
    "alpha = 0.9\n",
    "beta = 1.25\n",
    "min_samples_leaf = 1\n",
    "num_trees = 100\n",
    "cutpoint_grid_size = 100\n",
    "global_variance_init = 1.\n",
    "tau_init = 0.5\n",
    "leaf_prior_scale = np.array([[tau_init]], order='C')\n",
    "nu = 4.\n",
    "lamb = 0.5\n",
    "a_leaf = 2.\n",
    "b_leaf = 0.5\n",
    "leaf_regression = True\n",
    "feature_types = np.repeat(0, p_X).astype(int) # 0 = numeric\n",
    "var_weights = np.repeat(1/p_X, p_X)"
   ]
  },
  {
   "cell_type": "markdown",
   "metadata": {},
   "source": [
    "Convert data from numpy to `StochTree` representation"
   ]
  },
  {
   "cell_type": "code",
   "execution_count": null,
   "metadata": {},
   "outputs": [],
   "source": [
    "# Dataset (covariates and basis)\n",
    "dataset = Dataset()\n",
    "dataset.add_covariates(X)\n",
    "dataset.add_basis(W)\n",
    "\n",
    "# Residual\n",
    "residual = Residual(resid)"
   ]
  },
  {
   "cell_type": "markdown",
   "metadata": {},
   "source": [
    "Initialize tracking and sampling classes"
   ]
  },
  {
   "cell_type": "code",
   "execution_count": null,
   "metadata": {},
   "outputs": [],
   "source": [
    "forest_container = ForestContainer(num_trees, W.shape[1], False)\n",
    "forest_sampler = ForestSampler(dataset, feature_types, num_trees, n, alpha, beta, min_samples_leaf)\n",
    "cpp_rng = RNG(random_seed)\n",
    "global_var_model = GlobalVarianceModel()\n",
    "leaf_var_model = LeafVarianceModel()"
   ]
  },
  {
   "cell_type": "markdown",
   "metadata": {},
   "source": [
    "Prepare to run the sampler"
   ]
  },
  {
   "cell_type": "code",
   "execution_count": null,
   "metadata": {},
   "outputs": [],
   "source": [
    "num_warmstart = 10\n",
    "num_mcmc = 100\n",
    "num_samples = num_warmstart + num_mcmc\n",
    "global_var_samples = np.concatenate((np.array([global_variance_init]), np.repeat(0, num_samples)))\n",
    "leaf_scale_samples = np.concatenate((np.array([tau_init]), np.repeat(0, num_samples)))"
   ]
  },
  {
   "cell_type": "markdown",
   "metadata": {},
   "source": [
    "Run the \"grow-from-root\" (XBART) sampler"
   ]
  },
  {
   "cell_type": "code",
   "execution_count": null,
   "metadata": {},
   "outputs": [],
   "source": [
    "for i in range(num_warmstart):\n",
    "  forest_sampler.sample_one_iteration(forest_container, dataset, residual, cpp_rng, feature_types, cutpoint_grid_size, leaf_prior_scale, var_weights, global_var_samples[i], 1, True)\n",
    "  global_var_samples[i+1] = global_var_model.sample_one_iteration(residual, cpp_rng, nu, lamb)\n",
    "  leaf_scale_samples[i+1] = leaf_var_model.sample_one_iteration(forest_container, cpp_rng, a_leaf, b_leaf, i)\n",
    "  leaf_prior_scale[0,0] = leaf_scale_samples[i+1]"
   ]
  },
  {
   "cell_type": "markdown",
   "metadata": {},
   "source": [
    "Run the MCMC (BART) sampler, initialized at the last XBART sample"
   ]
  },
  {
   "cell_type": "code",
   "execution_count": null,
   "metadata": {},
   "outputs": [],
   "source": [
    "for i in range(num_warmstart, num_samples):\n",
    "  forest_sampler.sample_one_iteration(forest_container, dataset, residual, cpp_rng, feature_types, cutpoint_grid_size, leaf_prior_scale, var_weights, global_var_samples[i], 1, False)\n",
    "  global_var_samples[i+1] = global_var_model.sample_one_iteration(residual, cpp_rng, nu, lamb)\n",
    "  leaf_scale_samples[i+1] = leaf_var_model.sample_one_iteration(forest_container, cpp_rng, a_leaf, b_leaf, i)\n",
    "  leaf_prior_scale[0,0] = leaf_scale_samples[i+1]"
   ]
  },
  {
   "cell_type": "markdown",
   "metadata": {},
   "source": [
    "Extract mean function and error variance posterior samples"
   ]
  },
  {
   "cell_type": "code",
   "execution_count": null,
   "metadata": {},
   "outputs": [],
   "source": [
    "# Forest predictions\n",
    "forest_preds = forest_container.predict(dataset)*y_std + y_bar\n",
    "forest_preds_gfr = forest_preds[:,:num_warmstart]\n",
    "forest_preds_mcmc = forest_preds[:,num_warmstart:num_samples]\n",
    "\n",
    "# Global error variance\n",
    "sigma_samples = np.sqrt(global_var_samples)*y_std\n",
    "sigma_samples_gfr = sigma_samples[:num_warmstart]\n",
    "sigma_samples_mcmc = sigma_samples[num_warmstart:num_samples]"
   ]
  },
  {
   "cell_type": "markdown",
   "metadata": {},
   "source": [
    "Inspect the GFR (XBART) samples"
   ]
  },
  {
   "cell_type": "code",
   "execution_count": null,
   "metadata": {},
   "outputs": [],
   "source": [
    "forest_pred_avg_gfr = forest_preds_gfr.mean(axis = 1, keepdims = True)\n",
    "forest_pred_df_gfr = pd.DataFrame(np.concatenate((np.expand_dims(y, axis=1), forest_pred_avg_gfr), axis = 1), columns=[\"True y\", \"Average predicted y\"])\n",
    "sns.scatterplot(data=forest_pred_df_gfr, x=\"True y\", y=\"Average predicted y\")\n",
    "plt.axline((0, 0), slope=1, color=\"black\", linestyle=(0, (3,3)))\n",
    "plt.show()"
   ]
  },
  {
   "cell_type": "code",
   "execution_count": null,
   "metadata": {},
   "outputs": [],
   "source": [
    "sigma_df_gfr = pd.DataFrame(np.concatenate((np.expand_dims(np.arange(num_warmstart),axis=1), np.expand_dims(sigma_samples_gfr,axis=1)), axis = 1), columns=[\"Sample\", \"Sigma\"])\n",
    "sns.scatterplot(data=sigma_df_gfr, x=\"Sample\", y=\"Sigma\")\n",
    "plt.show()"
   ]
  },
  {
   "cell_type": "markdown",
   "metadata": {},
   "source": [
    "Inspect the MCMC (BART) samples"
   ]
  },
  {
   "cell_type": "code",
   "execution_count": null,
   "metadata": {},
   "outputs": [],
   "source": [
    "forest_pred_avg_mcmc = forest_preds_mcmc.mean(axis = 1, keepdims = True)\n",
    "forest_pred_df_mcmc = pd.DataFrame(np.concatenate((np.expand_dims(y, axis=1), forest_pred_avg_mcmc), axis = 1), columns=[\"True y\", \"Average predicted y\"])\n",
    "sns.scatterplot(data=forest_pred_df_mcmc, x=\"True y\", y=\"Average predicted y\")\n",
    "plt.axline((0, 0), slope=1, color=\"black\", linestyle=(0, (3,3)))\n",
    "plt.show()"
   ]
  },
  {
   "cell_type": "code",
   "execution_count": null,
   "metadata": {},
   "outputs": [],
   "source": [
    "sigma_df_mcmc = pd.DataFrame(np.concatenate((np.expand_dims(np.arange(num_samples - num_warmstart),axis=1), np.expand_dims(sigma_samples_mcmc,axis=1)), axis = 1), columns=[\"Sample\", \"Sigma\"])\n",
    "sns.scatterplot(data=sigma_df_mcmc, x=\"Sample\", y=\"Sigma\")\n",
    "plt.show()"
   ]
  }
 ],
 "metadata": {
  "kernelspec": {
   "display_name": "stochtree-dev",
   "language": "python",
   "name": "python3"
  },
  "language_info": {
   "codemirror_mode": {
    "name": "ipython",
    "version": 3
   },
   "file_extension": ".py",
   "mimetype": "text/x-python",
   "name": "python",
   "nbconvert_exporter": "python",
   "pygments_lexer": "ipython3",
   "version": "3.10.14"
  }
 },
 "nbformat": 4,
 "nbformat_minor": 2
}
